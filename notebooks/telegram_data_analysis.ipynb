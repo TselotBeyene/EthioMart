{
 "cells": [
  {
   "cell_type": "code",
   "execution_count": 36,
   "metadata": {},
   "outputs": [],
   "source": [
    "# Import Necessary Libraries\n",
    "from telethon import TelegramClient\n",
    "from telethon.errors import SessionPasswordNeededError\n",
    "from telethon.tl.functions.messages import GetHistoryRequest\n",
    "import pandas as pd\n",
    "import matplotlib.pyplot as plt\n",
    "from nltk.tokenize import word_tokenize\n",
    "import nltk\n",
    "import re\n",
    "from collections import Counter"
   ]
  },
  {
   "cell_type": "code",
   "execution_count": 38,
   "metadata": {},
   "outputs": [],
   "source": [
    "# Set Telegram API Credentials\n",
    "api_id = '28626741'\n",
    "api_hash = 'bccf833966cbe42d21d420fd3c3d6457'\n",
    "phone = '+251936679199'  \n",
    "\n",
    "# Initialize Telegram Client\n",
    "client = TelegramClient('session_name', api_id, api_hash)"
   ]
  },
  {
   "cell_type": "code",
   "execution_count": 39,
   "metadata": {},
   "outputs": [],
   "source": [
    "# Define Function to Connect to Telegram\n",
    "async def connect_to_telegram():\n",
    "    \"\"\"Connects to Telegram and handles authentication.\"\"\"\n",
    "    await client.start(phone)\n",
    "    print(\"Connected to Telegram!\")\n",
    "    \n",
    "    # Check if user is authorized\n",
    "    if not await client.is_user_authorized():\n",
    "        try:\n",
    "            await client.send_code_request(phone)\n",
    "            code = input(\"Enter the code sent to your Telegram: \")\n",
    "            await client.sign_in(phone, code)\n",
    "        except SessionPasswordNeededError:\n",
    "            password = input(\"Enter your password: \")\n",
    "            await client.sign_in(password=password)\n"
   ]
  },
  {
   "cell_type": "code",
   "execution_count": 40,
   "metadata": {},
   "outputs": [
    {
     "name": "stdout",
     "output_type": "stream",
     "text": [
      "Connected to Telegram!\n"
     ]
    }
   ],
   "source": [
    "# Connect to Telegram\n",
    "await connect_to_telegram()\n"
   ]
  },
  {
   "cell_type": "code",
   "execution_count": 41,
   "metadata": {},
   "outputs": [],
   "source": [
    "async def fetch_messages(channel_username, limit=100):\n",
    "    \"\"\"Fetches messages from a Telegram channel.\"\"\"\n",
    "    try:\n",
    "        channel = await client.get_entity(channel_username)\n",
    "        history = await client(GetHistoryRequest(\n",
    "            peer=channel,\n",
    "            offset_id=0,\n",
    "            offset_date=None,\n",
    "            add_offset=0,\n",
    "            limit=limit,\n",
    "            max_id=0,\n",
    "            min_id=0,\n",
    "            hash=0\n",
    "        ))\n",
    "        return history.messages\n",
    "    except Exception as e:\n",
    "        print(f\"Error fetching messages: {e}\")\n",
    "        return []"
   ]
  },
  {
   "cell_type": "code",
   "execution_count": 42,
   "metadata": {},
   "outputs": [
    {
     "name": "stdout",
     "output_type": "stream",
     "text": [
      "Channel Name: Zabbix, Username: @None\n",
      "Channel Name: Fullstack web developers, Username: @reactjs2020\n",
      "Channel Name: AudioBook Collection • Audiobooks Archive • Ebooks, Username: @Audiobooks_collection\n",
      "Channel Name: Bridal Team only, Username: @None\n",
      "Channel Name: RUHAMAH🔥, Username: @ruhamahfam\n",
      "Channel Name: USED PHONE SELLER™ 🇪🇹, Username: @usedphoneselleres\n",
      "Channel Name: Child Dev't Network, Username: @childdevtnetwork\n",
      "Channel Name: TIKVAH-ETHIOPIA, Username: @tikvahethiopia\n",
      "Channel Name: TV Series Bot 📺, Username: @Netflix_Xseriesbot\n",
      "Channel Name: DINOPUTIH | #VIRAL, Username: @LYDIA_ONIC_VIRAL_xu\n",
      "Channel Name: Khalid chiffon, Username: @None\n",
      "Channel Name: TIKVAH-MAGAZINE, Username: @tikvahethmagazine\n",
      "Channel Name: Google Facts™ [ ️@googlefactss🌎], Username: @googlefactss\n",
      "Channel Name: TIKVAH-CART, Username: @tikvahethcart\n",
      "Channel Name: Afriwork (Freelance Ethiopia), Username: @freelance_ethio\n",
      "Channel Name: شرکت افزایش سرمایه گذاری خوارزمی ♻️توسعه صنعتی♻️ 🔷️[ سهامی عام ]🔷️, Username: @sarasarliran\n",
      "Channel Name: Ethiopia online Market, Username: @None\n",
      "Channel Name: Gondar Graduates Fellow, Username: @None\n",
      "Channel Name: eBooks Cafe, Username: @eBooksCafe\n",
      "Channel Name: Christian Mezmur - ክርስቲያን መዝሙር, Username: @christian_mezmur\n",
      "Channel Name: Opportunities Circle (scholarships fellowshowships internships exchange programs ), Username: @opportunitiescircleofficial\n",
      "Channel Name: Bilal muha chiffon merkato, Username: @None\n",
      "Channel Name: Bìlàl muha chiffon merkato, Username: @bilal0915512092\n",
      "Channel Name: HaHuJobs, Username: @hahujobs\n",
      "Channel Name: Hahujobs For Fresh Graduates, Username: @hahujobsforfreshgraduates\n",
      "Channel Name: Devops Training & Job update, Username: @freedevopstraining\n",
      "Channel Name: Huawei ICT Academy, Ethiopia, Username: @HuaweiICTexam\n",
      "Channel Name: መልካም እንክብካቤ ለሰው እና ለማህበረሰብ እድገት Nurturing Care For Human and Societal Development, Username: @NC4ECD\n",
      "Channel Name: መሪጌታ የባህል መዳኃኒት ቀማሚ, Username: @None\n",
      "Channel Name: Safaricom Talent Cloud, Username: @Safaricomtalentcloud\n",
      "Channel Name: Ethiojobs, Username: @ethiojobsofficial\n",
      "Channel Name: CHRIST IS THE ANSWER 🇪🇹 ( CITA ), Username: @citaethiopia\n",
      "Channel Name: Beza International Church, Username: @bezachurch\n",
      "Channel Name: መርጌታ መርከብ የባህል ህክምና መስጫ, Username: @mergetamerkeb\n",
      "Channel Name: Harmeejobs.com, Username: @harmeejobs\n",
      "Channel Name: Side Hustle Internship 4.0, Username: @None\n",
      "Channel Name: Crypto Room ™, Username: @CRYPTO_RO0M\n",
      "Channel Name: Top Brand 🔥, Username: @top_brande1\n",
      "Channel Name: መርጌታ ሰለሞንባህላዊ መዳኒት, Username: @meregitasolomonbahelawemedanit\n",
      "Channel Name: ያኔት የድንገተኛ አደጋዎች እና የቀዶ ህክምና ማዕከል, Username: @None\n",
      "Channel Name: Prayer Army International Church, Username: @sunny_eze_evangelical_network\n",
      "Channel Name: Royal Smart Computer, Username: @laptoptrad\n",
      "Channel Name: ያሊ ፈሳሽ ሳሙና እና የፅዳት ዕቃዎች አምራች, Username: @yaliliyana7755\n",
      "Channel Name: GeezJobs.com, Username: @geezjob\n",
      "Channel Name: Crypto Millionaire News, Username: @Crypto_Millionaire_News\n",
      "Channel Name: Model AU -Ethiopia, Username: @MAUEthiopia\n",
      "Channel Name: Pursuing Holiness, Username: @reformedn\n",
      "Channel Name: El Roi, Username: @ElRoi_2016\n",
      "Channel Name: መርጌታ ጽጌ ጥበቡ የባህል መድሀኒት ቀማሚ።, Username: @selamawitagancy\n",
      "Channel Name: Gibson College, Username: @gibson_college\n",
      "Channel Name: መርጌታ ከፍተኛ የባህል ህክምና, Username: @ethiorealbetting\n",
      "Channel Name: Eyu beauty products, Username: @eyubeautyproduct\n",
      "Channel Name: Vent Here, Username: @vent_here\n",
      "Channel Name: Paintings Place, Username: @paintingsplace\n",
      "Channel Name: Class of 2005/2013, Username: @None\n",
      "Channel Name: Bethel Genet youth, Username: @None\n",
      "Channel Name: መርጌታ መንግስቱ የባህል ህክምናና መድሀኒት ቀማሚ, Username: @tele_birr_shilmat_mekebeya111\n",
      "Channel Name: መሪጌታ መሰረት ባህላዊ መዳኃኒት ቀማሚ, Username: @None\n",
      "Channel Name: Amen Marketing, Username: @None\n",
      "Channel Name: መርጌታ የባህል መዳኒት ቀማሚ, Username: @None\n",
      "Channel Name: New songs አዳዲስ መዝሙሮች, Username: @adadisemezemur\n",
      "Channel Name: Maroset, Username: @Maroset\n",
      "Channel Name: G.U.E.C.S.F, Username: @Guecsf_Gondar\n",
      "Channel Name: House of Brands, Username: @houseofbrands\n",
      "Channel Name: Sarcasm, Username: @Sarcasm14\n",
      "Channel Name: መርጌታ ጥሩሰዉ የባህል ህክምና, Username: @None\n",
      "Channel Name: ዕፀ በለስ ( ፪ ), Username: @esebles2\n",
      "Channel Name: ማሚላ የ ሃበሻ አልባሳት ስራ በ 0938181436 ዪዘዙን ያሉበት ቦታ እናደርሳለን, Username: @muhanet11\n",
      "Channel Name: ETHIO SHOPIFY©, Username: @None\n",
      "Channel Name: فروش تمامی اسلحه شکاری و جنگی, Username: @kivivgpgpgpgpgg\n",
      "Channel Name: Edu Cosmo & Graphics Design, Username: @None\n",
      "Channel Name: Ethiojobs pages.com, Username: @ethiojobs90\n",
      "Channel Name: Celestial _shop✨, Username: @FashionCentor\n",
      "Channel Name: TV Shows Bots 🎬, Username: @Netflix_Seriesbot4\n",
      "Channel Name: 🇮🇳Movies🇷🇺TV Shows, Username: @netflixkino\n",
      "Channel Name: Honey 🍯, Username: @hype_fashion3\n",
      "Channel Name: J-TABOR BROKER, Username: @hawassadelala1\n",
      "Channel Name: Venture Addis, Username: @VentureAddis\n",
      "Channel Name: Naol (ናኦል)ALL MARKET PLACE 🏚🚗🏚🚗🏚🚗🏣🏘0967202756/0922352564, Username: @None\n",
      "Channel Name: Yona bags, Username: @Ethioonlinesales1\n",
      "Channel Name: መርጌታ ጥበብ የባህል ህክምና, Username: @None\n",
      "Channel Name: Key Housing Finance Solution, Username: @KeyHousingFinancesolution\n",
      "Channel Name: Weyra Book Club, Username: @None\n",
      "Channel Name: Imu’s collection🛍️, Username: @None\n",
      "Channel Name: ethiopian union, Username: @GreatestEthiopia\n",
      "Channel Name: ምን አዲስ what’s new, Username: @AAAAAFWzSGb3UZJPmQO6GA\n",
      "Channel Name: Inside My Dark Soul 👣, Username: @insidemydarksoul\n",
      "Channel Name: Blaze Movement, Username: @blazemovement\n",
      "Channel Name: 202's Queens, Username: @None\n",
      "Channel Name: Zema Events, Username: @zema_events\n",
      "Channel Name: Collateral mind, Username: @None\n",
      "Channel Name: Social Affairs, Username: @SocialAffiars\n",
      "Channel Name: chocolate pastury& catering, Username: @chocolatecakesncookies\n",
      "Channel Name: መርጌታ የባህል ህክምና, Username: @None\n",
      "Channel Name: G.Town Reunion Event, Username: @Gtownreunion\n",
      "Channel Name: RAC Keroggie Events, Username: @RCKeroggievents\n",
      "Channel Name: Daisy_dreams_collections, Username: @daisy_dreams_collections\n",
      "Channel Name: Bdu B/management Distance, Username: @None\n",
      "Channel Name: emu computer trading, Username: @emucomputer\n",
      "Channel Name: Eyu Beauty products, Username: @None\n",
      "Channel Name: Khalid's songs, Username: @khalidsongs\n",
      "Channel Name: Tibeb Be Adebabay-TBA, Username: @Tibeb_Be_Adebabay\n",
      "Channel Name: Ethel Computer Trading, Username: @Ethel_Computer_Trading\n",
      "Channel Name: Runbook, Username: @None\n",
      "Channel Name: 💞ናሆም STORE👌👌👌, Username: @NMnaf\n",
      "Channel Name: Regular Year 4 S2💋, Username: @None\n",
      "Channel Name: dissnation⚡, Username: @dissshit\n",
      "Channel Name: IT class of 2014, Username: @None\n",
      "Channel Name: ኤቢ ገዥና ሻጭ እገናኝ (AB Property Agent 0911-19-33-16/0942-19-16-61, Username: @AB_brokerrrrrrrr\n",
      "Channel Name: El market, Username: @newfeeling12\n",
      "Channel Name: S͆i͆d͆i͆s͆ D͆e͆F͆i͆, Username: @None\n",
      "Channel Name: Fresh job information, Username: @vrda1lll\n",
      "Channel Name: Netflix Movies News, Username: @Netflix_News_HD_Series_Movies_TV\n",
      "Channel Name: The Bored Playlist, Username: @BoredPlaylist\n",
      "Channel Name: B༙L༙A༙C༙K༙ I༙S༙ B༙E༙A༙U༙T༙I༙F༙U༙L༙, Username: @None\n",
      "Channel Name: ኢየሱስ daily, Username: @jesus_daily\n",
      "Channel Name: ሐይሌ መጋረጃና ሶፋ ጨርቅ, Username: @None\n",
      "Channel Name: Employability Skills Training Mar 9th to 11th, Username: @TTFMar9\n",
      "Channel Name: Sewawi Techs, Username: @sewawi_tech\n",
      "Channel Name: 🎼Mezmur Lyrics🎤, Username: @mezmur1\n",
      "Channel Name: Wealth progressive investments, Username: @None\n",
      "Channel Name: PENDING ISSUE STATUS, Username: @None\n",
      "Channel Name: Huawei UOG 2012, Username: @None\n",
      "Channel Name: E-BOOKS GLOBAL™ LIBRARY, Username: @None\n",
      "Channel Name: بسم الله الرحمن الرحیم, Username: @ofircvolik\n",
      "Channel Name: صیغه حلال (شرعی), Username: @fygfxsetjhv\n",
      "Channel Name: 💻 ናሆም አጠቃላይ የ ግራፊክ ስራዎች 🖥⌨, Username: @nafgrafic\n",
      "Channel Name: random thoughts of MR. unknown: unfiltered, Username: @undiscoveredd\n",
      "Channel Name: Lalika security solution, Username: @None\n",
      "Channel Name: መርጌታ ሀይለ ማረያም የባህል መዳኒት, Username: @gutosport\n",
      "Channel Name: Vikings (2013) • Tv Series, Username: @Animaton_Movies\n",
      "Channel Name: وام فوری بدون ضامن بانک مرکزی🏦, Username: @sbzhzhab\n",
      "Channel Name: 💹 گلـدن سیگنال|سود تضمینی💸, Username: @None\n",
      "Channel Name: All market, Username: @theAll_market\n",
      "Channel Name: Sarina gift shop, Username: @None\n",
      "Channel Name: Sheger Online Shopping 🛍, Username: @shegershopping2\n",
      "Channel Name: Habitation, Username: @stevemalcom\n",
      "Channel Name: ኮኔል ገበያ/ Konel Market Group 💸🛍🛒🎁💰, Username: @kon_mart_group\n",
      "Channel Name: Cruise school 2010, Username: @None\n",
      "Channel Name: Goodies Mart🛒🛍️, Username: @ethiogoodiesshop\n",
      "Channel Name: ., Username: @None\n",
      "Channel Name: Tidy Shop, Username: @tidyshop1\n",
      "Channel Name: Habeshan Pulse, Username: @soundcloudET\n",
      "Channel Name: Ruth Online Shopping, Username: @ruthonline_shoping\n",
      "Channel Name: Tinishua Betekristian, Username: @Tinishuabetekristian\n",
      "Channel Name: Imu’s collection🦋, Username: @None\n",
      "Channel Name: መርጌታ ቀለመወርቅ ፍስሀ የባህል መዳኒት ቀማሚ ና ሰጭ ለሁሉም መፍትሄ አለው ይደውሉ 0968724141, Username: @mergetakelemwerkfisha\n",
      "Channel Name: Bryson Tiller🔥, Username: @BrysonTillerFans\n",
      "Channel Name: T&Y christians, Username: @teenchris\n",
      "Channel Name: Isru movie center, Username: @None\n",
      "Channel Name: همسریابی ودوس یابی, Username: @None\n",
      "Channel Name: መርጌታ ያሬድ ተሾመ የባህል መዳኒት ቀማሚ ና ሰጭ 0968710715, Username: @mergetayared\n",
      "Channel Name: صیغه حلال, Username: @vmdjlapq\n",
      "Channel Name: صیغه موقت همدم اسلامی موسسه(نیکان), Username: @None\n",
      "Channel Name: صیغه موقت وحلال, Username: @None\n",
      "Channel Name: Collateral Beauty, Username: @The_Collateral_Beauty\n",
      "Channel Name: Sheger Gebeta, Username: @shegergebeta\n",
      "Channel Name: Reign, Username: @Moviewalker_Reign\n",
      "Channel Name: Y4C, Username: @YOUTH4CHRIST\n",
      "Channel Name: CCI Instacart, Username: @cciaddis\n",
      "Channel Name: Full stack Web development community, Username: @fullstackwebdevcommunity\n",
      "Channel Name: Scandal all seasons, Username: @scandalus1\n",
      "Channel Name: ProБанки, Username: @probankipi\n",
      "Channel Name: Fortune, Username: @rufortune\n",
      "Channel Name: ፈንዲሻ pastries, Username: @butterflytat2021\n",
      "Channel Name: ONLY ON HAND STUFF🦋⛓, Username: @onlyonhandstuff\n",
      "Channel Name: Dark Desire Netflix, Username: @DarkDesireNetflix\n",
      "Channel Name: South Park Complete Series, Username: @southparkcompleteseries\n",
      "Channel Name: The heirs (Eng Subtitles)🌸, Username: @None\n",
      "Channel Name: ABC KIDS ETHIOPIA, Username: @abckidsethiopia\n",
      "Channel Name: maries shop, Username: @maries2330\n",
      "Channel Name: Facts Centre, Username: @Facts_Centre\n",
      "Channel Name: Movie Suggestions, Username: @FilmCrux\n",
      "Channel Name: Disneyland kids bonda, Username: @disneyland_kids_bonda_channel\n",
      "Channel Name: ALX Ethiopia Talent, Username: @alxtalent2023\n",
      "Channel Name: MOVIE C0LLECTlON, Username: @None\n",
      "Channel Name: Gondar Gebeta, Username: @Gondar_gebeta\n",
      "Channel Name: FRENCH Astemari in Addis, Username: @zewdeyeraswork\n",
      "Channel Name: In-Sheger 🎙🎧, Username: @InSheger01\n",
      "Channel Name: vibezvx, Username: @None\n",
      "Channel Name: Milo's Market, Username: @milosmarket\n",
      "Channel Name: WAVE 7, Username: @None\n",
      "Channel Name: Top Movies, Username: @topmovies3\n",
      "Channel Name: We are Ethiopian, Username: @None\n",
      "Channel Name: J cole, Username: @JermaineCole\n",
      "Channel Name: Simbo Market, Username: @Simbomarket\n",
      "Channel Name: Semir brand👟 ጥራታቸዉን የጠበቁ ጫማዎችን ለተጠቃሚና ለሻጭ ሱቆች እናቀርባለን አድራሻችን:- መረካቶ ጭድ ተራ ለበለጠ መረጃ ይደዉሉ ያናግሩን።👉, Username: @semirbrand\n",
      "Channel Name: DJ VIBES, Username: @djvibz\n",
      "Channel Name: Romantic Movies Collection ❣️, Username: @Romance_Comedy_HD_Movies\n",
      "Channel Name: Stranger Things / Love Death and Robots, Username: @OutStrangerThings\n",
      "Channel Name: Girl power💄💋✊️🤙🏽💁🏽, Username: @Girlpower101\n",
      "Channel Name: Virgin River, Username: @None\n",
      "Channel Name: Book Nerd 📖, Username: @book_nerdyy\n",
      "Channel Name: ቃርያ Online shopping, Username: @karyaOS\n",
      "Channel Name: TOGETHER AS ONE💚, Username: @None\n",
      "Channel Name: Euph Repost 🎬, Username: @None\n",
      "Channel Name: Euphoria Season 2, Username: @None\n",
      "Channel Name: Safaricom Graduate Program Applicants, Username: @None\n",
      "Channel Name: Modern Family, Username: @Modern_Family_0ty\n",
      "Channel Name: All in One, Username: @None\n",
      "Channel Name: Youthtrendx Main Channel, Username: @youthtrendxnew\n",
      "Channel Name: Joseph fellowship, Username: @None\n",
      "Channel Name: Friday night lights, Username: @kidslikegglegendsl9vefnl\n",
      "Channel Name: SUNLIGHT ☀️ INVESTMENT LTD, Username: @None\n",
      "Channel Name: G u i t a r t i p s, Username: @guitartips\n",
      "Channel Name: Money Heist Season 5 4 3 2 1, Username: @None\n",
      "Channel Name: You season 123, Username: @you_season_123\n",
      "Channel Name: Grey's Anatomy All Seasons, Username: @None\n",
      "Channel Name: Elehan online 🛒, Username: @ehanonlineshopping\n",
      "Channel Name: Youthtrendx™ Main Channel, Username: @None\n",
      "Channel Name: Beverly Hills 90210 (Sub), Username: @BV90210\n",
      "Channel Name: Squid game, Username: @None\n",
      "Channel Name: Grey's Anatomy (2005-2021) All Seasons S01-S17 480p • 720p • 1080p, Username: @Greys_Anatomy_Seasons\n",
      "Channel Name: Brooklyn Nine-Nine, Username: @None\n",
      "Channel Name: E-BOOKS FORUM, Username: @None\n",
      "Channel Name: Funny Thoughts, Username: @None\n",
      "Channel Name: Spotify Music Premium, Username: @None\n",
      "Channel Name: Online shoping (\"pre orders ), Username: @None\n",
      "Channel Name: Sol Yanim English subtitles, Username: @Solyanimenglishsubtitle\n",
      "Channel Name: CV Series, Username: @None\n",
      "Channel Name: Movies, Username: @None\n",
      "Channel Name: SHOOPING ONLINE 💯, Username: @None\n",
      "Channel Name: Black mirror, Username: @None\n",
      "Channel Name: Baby, Username: @None\n",
      "Channel Name: Yeheyes Ayele, Username: @None\n",
      "Channel Name: Bridgerton, Username: @Bridgerton213\n",
      "Channel Name: Heirs, Username: @None\n",
      "Channel Name: How I Met Your Mother, Username: @None\n",
      "Channel Name: Baby daddy Series, Username: @baby_daddy_series\n",
      "Channel Name: Good Doctor (Korean Movie) English Subtittle, Username: @gooddoctorkoreandrama\n",
      "Channel Name: Perfect vision 📷 📸, Username: @None\n",
      "Channel Name: Damat travel agency🛫, Username: @Damattravelagencyy\n",
      "Channel Name: Damat, Username: @damattravelagency\n",
      "Channel Name: Doho lodge, Username: @None\n",
      "Channel Name: DARE DEVIL SEASON 02 [720p], Username: @None\n",
      "Channel Name: DARE DEVIL SEASON 01 [720p], Username: @None\n",
      "Channel Name: LYNDA FREE 4 U, Username: @lyndafreee\n",
      "Channel Name: Rhyme or die, Username: @None\n",
      "Channel Name: 6lack, Username: @EASTATLANTALOVELETTER6\n",
      "Channel Name: Every brand, Username: @None\n",
      "Channel Name: Mezmuroch, Username: @None\n",
      "Channel Name: Best Bookshelf, Username: @None\n",
      "Channel Name: Isru tech, Username: @None\n",
      "Channel Name: ., Username: @None\n",
      "Channel Name: Spotify™, Username: @None\n",
      "Channel Name: Book Nerd, Username: @None\n",
      "Channel Name: Sew in style, Username: @None\n",
      "Channel Name: The Good Bible, Username: @None\n",
      "Channel Name: CGS, Username: @christian_gospel_songs\n",
      "Channel Name: MEME WAR🔞, Username: @None\n",
      "Channel Name: lauv, Username: @None\n",
      "Channel Name: Siso Photography, Username: @None\n"
     ]
    }
   ],
   "source": [
    "async def list_channels():\n",
    "    \"\"\"Lists all channels the user is a part of.\"\"\"\n",
    "    dialogs = await client.get_dialogs()\n",
    "    channels = [dialog for dialog in dialogs if dialog.is_channel]\n",
    "    for channel in channels:\n",
    "        print(f\"Channel Name: {channel.name}, Username: @{channel.entity.username}\")\n",
    "\n",
    "await list_channels()\n"
   ]
  },
  {
   "cell_type": "code",
   "execution_count": 43,
   "metadata": {},
   "outputs": [],
   "source": [
    "channels = ['@googlefactss', '@Audiobooks_collection', '@reactjs2020']\n",
    "all_messages = []\n",
    "for channel in channels:\n",
    "    messages = await fetch_messages(channel, limit=500)\n",
    "    all_messages.extend(messages)"
   ]
  },
  {
   "cell_type": "code",
   "execution_count": 44,
   "metadata": {},
   "outputs": [],
   "source": [
    "all_messages = []\n",
    "for channel in channels:\n",
    "    messages = await fetch_messages(channel, limit=500)\n",
    "    all_messages.extend(messages)\n"
   ]
  },
  {
   "cell_type": "code",
   "execution_count": 45,
   "metadata": {},
   "outputs": [],
   "source": [
    "# Process and Clean Messages\n",
    "def process_messages(messages):\n",
    "    \"\"\"Processes and cleans messages.\"\"\"\n",
    "    data = []\n",
    "    for msg in messages:\n",
    "        if msg.message:  # Check if the message contains text\n",
    "            data.append({\n",
    "                'sender': msg.from_id.user_id if msg.from_id else None,\n",
    "                'date': msg.date,\n",
    "                'text': msg.message\n",
    "            })\n",
    "    return pd.DataFrame(data)"
   ]
  },
  {
   "cell_type": "code",
   "execution_count": 46,
   "metadata": {},
   "outputs": [],
   "source": [
    "# Convert Messages to DataFrame\n",
    "df = process_messages(all_messages)"
   ]
  },
  {
   "cell_type": "code",
   "execution_count": 47,
   "metadata": {},
   "outputs": [],
   "source": [
    "def clean_text(text):\n",
    "    \"\"\"Cleans text data: removes special characters, links, and tokenizes.\"\"\"\n",
    "    text = re.sub(r\"http\\S+\", \"\", text)  # Remove URLs\n",
    "    text = re.sub(r\"[^ሀ-፡a-zA-Z0-9]\", \" \", text)  # Keep Amharic and English characters\n",
    "    text = text.lower()\n",
    "    return text"
   ]
  },
  {
   "cell_type": "code",
   "execution_count": 48,
   "metadata": {},
   "outputs": [],
   "source": [
    "df['cleaned_text'] = df['text'].apply(clean_text)"
   ]
  },
  {
   "cell_type": "code",
   "execution_count": 49,
   "metadata": {},
   "outputs": [
    {
     "name": "stdout",
     "output_type": "stream",
     "text": [
      "Preprocessed data saved to 'telegram_messages.csv'.\n"
     ]
    }
   ],
   "source": [
    "df.to_csv('telegram_messages.csv', index=False)\n",
    "print(\"Preprocessed data saved to 'telegram_messages.csv'.\")"
   ]
  },
  {
   "cell_type": "code",
   "execution_count": 50,
   "metadata": {},
   "outputs": [],
   "source": [
    "# Exploratory Data Analysis (EDA)\n",
    "# Word Frequency Analysis\n",
    "from collections import Counter"
   ]
  },
  {
   "cell_type": "code",
   "execution_count": 51,
   "metadata": {},
   "outputs": [],
   "source": [
    "from telethon.errors.rpcerrorlist import ServerError\n",
    "\n",
    "async def safe_connect():\n",
    "    retries = 3\n",
    "    while retries > 0:\n",
    "        try:\n",
    "            await client.connect()\n",
    "            if await client.is_user_authorized():\n",
    "                print(\"Connected to Telegram!\")\n",
    "                break\n",
    "        except ServerError as e:\n",
    "            print(f\"Connection failed: {e}. Retrying...\")\n",
    "            retries -= 1\n",
    "            await asyncio.sleep(5)\n",
    "    if retries == 0:\n",
    "        print(\"Failed to connect after multiple attempts.\")\n",
    "\n",
    "\n"
   ]
  },
  {
   "cell_type": "code",
   "execution_count": 52,
   "metadata": {},
   "outputs": [
    {
     "name": "stdout",
     "output_type": "stream",
     "text": [
      "   sender                      date  \\\n",
      "0     NaN 2025-01-20 19:17:32+00:00   \n",
      "1     NaN 2025-01-20 14:02:29+00:00   \n",
      "2     NaN 2025-01-20 10:59:56+00:00   \n",
      "3     NaN 2025-01-20 07:35:12+00:00   \n",
      "4     NaN 2025-01-19 17:07:13+00:00   \n",
      "\n",
      "                                                text  \\\n",
      "0  Australia is the only continent without any gl...   \n",
      "1  If a Catholic priest reveals anything someone ...   \n",
      "2  The word breakfast comes from the Middle Engli...   \n",
      "3  The word “honeymoon” originated from the tradi...   \n",
      "4  There is a positive correlation between vitami...   \n",
      "\n",
      "                                        cleaned_text  \n",
      "0  australia is the only continent without any gl...  \n",
      "1  if a catholic priest reveals anything someone ...  \n",
      "2  the word breakfast comes from the middle engli...  \n",
      "3  the word  honeymoon  originated from the tradi...  \n",
      "4  there is a positive correlation between vitami...  \n"
     ]
    }
   ],
   "source": [
    "print(df.head())"
   ]
  },
  {
   "cell_type": "code",
   "execution_count": 55,
   "metadata": {},
   "outputs": [
    {
     "name": "stdout",
     "output_type": "stream",
     "text": [
      "['This', 'is', 'a', 'test', 'sentence', 'for', 'tokenization', '.']\n"
     ]
    }
   ],
   "source": [
    "import spacy\n",
    "\n",
    "nlp = spacy.load(\"en_core_web_sm\")  # Download if needed: python -m spacy download en_core_web_sm\n",
    "doc = nlp(\"This is a test sentence for tokenization.\")\n",
    "tokens = [token.text for token in doc]\n",
    "print(tokens)\n"
   ]
  },
  {
   "cell_type": "code",
   "execution_count": 59,
   "metadata": {},
   "outputs": [
    {
     "name": "stdout",
     "output_type": "stream",
     "text": [
      "0    australia is the only continent without any gl...\n",
      "1    if a catholic priest reveals anything someone ...\n",
      "2    the word breakfast comes from the middle engli...\n",
      "3    the word  honeymoon  originated from the tradi...\n",
      "4    there is a positive correlation between vitami...\n",
      "Name: cleaned_text, dtype: object\n"
     ]
    }
   ],
   "source": [
    "# Load the spaCy English model\n",
    "nlp = spacy.load(\"en_core_web_sm\")\n",
    "print(df['cleaned_text'].head())  # Inspect the cleaned text"
   ]
  },
  {
   "cell_type": "code",
   "execution_count": 60,
   "metadata": {},
   "outputs": [],
   "source": [
    "# Example DataFrame (Replace this with your fetched data)\n",
    "data = [\n",
    "    {\"sender\": 1, \"date\": \"2025-01-20\", \"text\": \"Australia is the only continent without any glaciers.\"},\n",
    "    {\"sender\": 2, \"date\": \"2025-01-19\", \"text\": \"The word breakfast comes from the Middle English word 'brekenfast'.\"},\n",
    "    {\"sender\": 3, \"date\": \"2025-01-18\", \"text\": \"If a Catholic priest reveals anything someone confessed, he is excommunicated.\"}\n",
    "]\n",
    "df = pd.DataFrame(data)"
   ]
  },
  {
   "cell_type": "code",
   "execution_count": 61,
   "metadata": {},
   "outputs": [],
   "source": [
    "\n",
    "# Clean Text Data\n",
    "def clean_text(text):\n",
    "    \"\"\"Clean text by removing special characters, links, and normalizing.\"\"\"\n",
    "    text = re.sub(r\"http\\S+\", \"\", text)  # Remove URLs\n",
    "    text = re.sub(r\"[^a-zA-Z0-9 ]\", \" \", text)  # Retain only alphanumeric and spaces\n",
    "    text = text.lower().strip()  # Lowercase and strip whitespace\n",
    "    return text\n",
    "\n",
    "df['cleaned_text'] = df['text'].apply(clean_text)\n"
   ]
  },
  {
   "cell_type": "code",
   "execution_count": 62,
   "metadata": {},
   "outputs": [],
   "source": [
    "def spacy_tokenize(text):\n",
    "    \"\"\"Tokenize text using spaCy.\"\"\"\n",
    "    doc = nlp(text)\n",
    "    return [token.text for token in doc]\n",
    "\n",
    "df['tokens'] = df['cleaned_text'].apply(spacy_tokenize)\n"
   ]
  },
  {
   "cell_type": "code",
   "execution_count": 63,
   "metadata": {},
   "outputs": [
    {
     "name": "stdout",
     "output_type": "stream",
     "text": [
      "Preprocessed data saved to 'telegram_messages.csv'.\n"
     ]
    }
   ],
   "source": [
    "# Save Preprocessed Data\n",
    "df.to_csv('telegram_messages.csv', index=False)\n",
    "print(\"Preprocessed data saved to 'telegram_messages.csv'.\")"
   ]
  },
  {
   "cell_type": "code",
   "execution_count": 65,
   "metadata": {},
   "outputs": [
    {
     "data": {
      "image/png": "[encoded data removed]",
      "text/plain": [
       "<Figure size 1000x600 with 1 Axes>"
      ]
     },
     "metadata": {},
     "output_type": "display_data"
    }
   ],
   "source": [
    "# --- Visualization 1: Word Frequency ---\n",
    "all_tokens = [token for tokens in df['tokens'] for token in tokens]\n",
    "word_freq = Counter(all_tokens)\n",
    "common_words = word_freq.most_common(20)  # Top 20 most frequent words\n",
    "words, counts = zip(*common_words)\n",
    "\n",
    "plt.figure(figsize=(10, 6))\n",
    "plt.bar(words, counts)\n",
    "plt.title(\"Most Common Words in Telegram Messages\")\n",
    "plt.xlabel(\"Words\")\n",
    "plt.ylabel(\"Frequency\")\n",
    "plt.xticks(rotation=45)\n",
    "plt.show()"
   ]
  },
  {
   "cell_type": "code",
   "execution_count": 66,
   "metadata": {},
   "outputs": [
    {
     "data": {
      "image/png": "[encoded data removed]",
      "text/plain": [
       "<Figure size 1000x600 with 1 Axes>"
      ]
     },
     "metadata": {},
     "output_type": "display_data"
    }
   ],
   "source": [
    "# --- Visualization 2: Message Length Distribution ---\n",
    "df['message_length'] = df['cleaned_text'].apply(len)  # Calculate message lengths\n",
    "plt.figure(figsize=(10, 6))\n",
    "plt.hist(df['message_length'], bins=10, edgecolor='black')\n",
    "plt.title(\"Message Length Distribution\")\n",
    "plt.xlabel(\"Message Length\")\n",
    "plt.ylabel(\"Frequency\")\n",
    "plt.show()"
   ]
  },
  {
   "cell_type": "code",
   "execution_count": 67,
   "metadata": {},
   "outputs": [
    {
     "name": "stdout",
     "output_type": "stream",
     "text": [
      "Unique tokens: ['australia', 'is', 'the', 'only', 'continent', 'without', 'any', 'glaciers', 'word', 'breakfast', 'comes', 'from', 'middle', 'english', ' ', 'brekenfast', 'if', 'a', 'catholic', 'priest', 'reveals', 'anything', 'someone', 'confessed', 'he', 'excommunicated']\n"
     ]
    }
   ],
   "source": [
    "unique_tokens = list(word_freq.keys())  # Get the unique tokens\n",
    "print(\"Unique tokens:\", unique_tokens)\n"
   ]
  },
  {
   "cell_type": "code",
   "execution_count": 68,
   "metadata": {},
   "outputs": [
    {
     "name": "stdout",
     "output_type": "stream",
     "text": [
      "Unique tokens with their counts:\n",
      "australia: 1\n",
      "is: 2\n",
      "the: 3\n",
      "only: 1\n",
      "continent: 1\n",
      "without: 1\n",
      "any: 1\n",
      "glaciers: 1\n",
      "word: 2\n",
      "breakfast: 1\n",
      "comes: 1\n",
      "from: 1\n",
      "middle: 1\n",
      "english: 1\n",
      " : 2\n",
      "brekenfast: 1\n",
      "if: 1\n",
      "a: 1\n",
      "catholic: 1\n",
      "priest: 1\n",
      "reveals: 1\n",
      "anything: 1\n",
      "someone: 1\n",
      "confessed: 1\n",
      "he: 1\n",
      "excommunicated: 1\n"
     ]
    },
    {
     "name": "stderr",
     "output_type": "stream",
     "text": [
      "Cannot get difference since the account is likely misusing the session: database is locked\n",
      "Unhandled exception from keepalive_handle after cancelling <class '_asyncio.Task'> (<Task finished name='Task-136' coro=<UpdateMethods._keepalive_loop() done, defined at /opt/anaconda3/lib/python3.12/site-packages/telethon/client/updates.py:481> exception=OperationalError('database is locked')>)\n",
      "Traceback (most recent call last):\n",
      "  File \"/opt/anaconda3/lib/python3.12/site-packages/telethon/helpers.py\", line 176, in _cancel\n",
      "    await task\n",
      "  File \"/opt/anaconda3/lib/python3.12/site-packages/telethon/client/updates.py\", line 517, in _keepalive_loop\n",
      "    self._save_states_and_entities()\n",
      "  File \"/opt/anaconda3/lib/python3.12/site-packages/telethon/client/telegrambaseclient.py\", line 693, in _save_states_and_entities\n",
      "    self.session.process_entities(types.contacts.ResolvedPeer(None, [e._as_input_peer() for e in entities], []))\n",
      "  File \"/opt/anaconda3/lib/python3.12/site-packages/telethon/sessions/sqlite.py\", line 301, in process_entities\n",
      "    c.executemany(\n",
      "sqlite3.OperationalError: database is locked\n",
      "Task exception was never retrieved\n",
      "future: <Task finished name='Task-164' coro=<TelegramBaseClient._disconnect_coro() done, defined at /opt/anaconda3/lib/python3.12/site-packages/telethon/client/telegrambaseclient.py:706> exception=OperationalError('database is locked')>\n",
      "Traceback (most recent call last):\n",
      "  File \"/opt/anaconda3/lib/python3.12/site-packages/telethon/client/telegrambaseclient.py\", line 736, in _disconnect_coro\n",
      "    self._save_states_and_entities()\n",
      "  File \"/opt/anaconda3/lib/python3.12/site-packages/telethon/client/telegrambaseclient.py\", line 693, in _save_states_and_entities\n",
      "    self.session.process_entities(types.contacts.ResolvedPeer(None, [e._as_input_peer() for e in entities], []))\n",
      "  File \"/opt/anaconda3/lib/python3.12/site-packages/telethon/sessions/sqlite.py\", line 301, in process_entities\n",
      "    c.executemany(\n",
      "sqlite3.OperationalError: database is locked\n"
     ]
    }
   ],
   "source": [
    "print(\"Unique tokens with their counts:\")\n",
    "for token, count in word_freq.items():\n",
    "    print(f\"{token}: {count}\")\n"
   ]
  }
 ],
 "metadata": {
  "kernelspec": {
   "display_name": "base",
   "language": "python",
   "name": "python3"
  },
  "language_info": {
   "codemirror_mode": {
    "name": "ipython",
    "version": 3
   },
   "file_extension": ".py",
   "mimetype": "text/x-python",
   "name": "python",
   "nbconvert_exporter": "python",
   "pygments_lexer": "ipython3",
   "version": "3.12.7"
  }
 },
 "nbformat": 4,
 "nbformat_minor": 2
}
